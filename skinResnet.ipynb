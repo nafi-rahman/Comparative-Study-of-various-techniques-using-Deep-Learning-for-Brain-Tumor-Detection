{
 "cells": [
  {
   "cell_type": "code",
   "execution_count": 1,
   "metadata": {},
   "outputs": [],
   "source": [
    "# Common \n",
    "import os\n",
    "import keras\n",
    "import numpy as np \n",
    "import tensorflow as tf\n",
    "from sklearn.model_selection import KFold\n",
    "from sklearn.metrics import precision_recall_fscore_support\n",
    "# Data\n",
    "import pandas as pd\n",
    "from keras.preprocessing.image import ImageDataGenerator\n",
    "\n",
    "# Data Visualization \n",
    "import plotly.express as px\n",
    "import matplotlib.pyplot as plt\n",
    "\n",
    "# Models\n",
    "from keras import Sequential\n",
    "from keras.layers import Dense, GlobalAveragePooling2D, Dropout, BatchNormalization\n",
    "from keras.callbacks import EarlyStopping, ModelCheckpoint\n",
    "from tensorflow.keras.applications import ResNet50V2\n",
    "from tensorflow.keras.applications import ResNet101V2"
   ]
  },
  {
   "cell_type": "code",
   "execution_count": 2,
   "metadata": {},
   "outputs": [
    {
     "data": {
      "text/html": [
       "<div>\n",
       "<style scoped>\n",
       "    .dataframe tbody tr th:only-of-type {\n",
       "        vertical-align: middle;\n",
       "    }\n",
       "\n",
       "    .dataframe tbody tr th {\n",
       "        vertical-align: top;\n",
       "    }\n",
       "\n",
       "    .dataframe thead th {\n",
       "        text-align: right;\n",
       "    }\n",
       "</style>\n",
       "<table border=\"1\" class=\"dataframe\">\n",
       "  <thead>\n",
       "    <tr style=\"text-align: right;\">\n",
       "      <th></th>\n",
       "      <th>ImageID</th>\n",
       "      <th>Label</th>\n",
       "    </tr>\n",
       "  </thead>\n",
       "  <tbody>\n",
       "    <tr>\n",
       "      <th>0</th>\n",
       "      <td>M01_01</td>\n",
       "      <td>Monkeypox</td>\n",
       "    </tr>\n",
       "    <tr>\n",
       "      <th>1</th>\n",
       "      <td>M01_02</td>\n",
       "      <td>Monkeypox</td>\n",
       "    </tr>\n",
       "    <tr>\n",
       "      <th>2</th>\n",
       "      <td>M01_03</td>\n",
       "      <td>Monkeypox</td>\n",
       "    </tr>\n",
       "    <tr>\n",
       "      <th>3</th>\n",
       "      <td>M01_04</td>\n",
       "      <td>Monkeypox</td>\n",
       "    </tr>\n",
       "    <tr>\n",
       "      <th>4</th>\n",
       "      <td>M02_01</td>\n",
       "      <td>Monkeypox</td>\n",
       "    </tr>\n",
       "  </tbody>\n",
       "</table>\n",
       "</div>"
      ],
      "text/plain": [
       "  ImageID      Label\n",
       "0  M01_01  Monkeypox\n",
       "1  M01_02  Monkeypox\n",
       "2  M01_03  Monkeypox\n",
       "3  M01_04  Monkeypox\n",
       "4  M02_01  Monkeypox"
      ]
     },
     "execution_count": 2,
     "metadata": {},
     "output_type": "execute_result"
    }
   ],
   "source": [
    "info_file = './monkeypox-skin-lesion-dataset/Monkeypox_Dataset_metadata.csv'\n",
    "info = pd.read_csv(info_file)\n",
    "info.head()"
   ]
  },
  {
   "cell_type": "code",
   "execution_count": 3,
   "metadata": {},
   "outputs": [
    {
     "data": {
      "application/vnd.plotly.v1+json": {
       "config": {
        "plotlyServerURL": "https://plot.ly"
       },
       "data": [
        {
         "domain": {
          "x": [
           0,
           1
          ],
          "y": [
           0,
           1
          ]
         },
         "hole": 0.2,
         "hovertemplate": "label=%{label}<br>value=%{value}<extra></extra>",
         "labels": [
          "Monkeypox",
          "Non Monkeypox"
         ],
         "legendgroup": "",
         "name": "",
         "showlegend": true,
         "type": "pie",
         "values": [
          126,
          102
         ]
        }
       ],
       "layout": {
        "height": 500,
        "legend": {
         "tracegroupgap": 0
        },
        "margin": {
         "t": 60
        },
        "template": {
         "data": {
          "bar": [
           {
            "error_x": {
             "color": "#2a3f5f"
            },
            "error_y": {
             "color": "#2a3f5f"
            },
            "marker": {
             "line": {
              "color": "#E5ECF6",
              "width": 0.5
             },
             "pattern": {
              "fillmode": "overlay",
              "size": 10,
              "solidity": 0.2
             }
            },
            "type": "bar"
           }
          ],
          "barpolar": [
           {
            "marker": {
             "line": {
              "color": "#E5ECF6",
              "width": 0.5
             },
             "pattern": {
              "fillmode": "overlay",
              "size": 10,
              "solidity": 0.2
             }
            },
            "type": "barpolar"
           }
          ],
          "carpet": [
           {
            "aaxis": {
             "endlinecolor": "#2a3f5f",
             "gridcolor": "white",
             "linecolor": "white",
             "minorgridcolor": "white",
             "startlinecolor": "#2a3f5f"
            },
            "baxis": {
             "endlinecolor": "#2a3f5f",
             "gridcolor": "white",
             "linecolor": "white",
             "minorgridcolor": "white",
             "startlinecolor": "#2a3f5f"
            },
            "type": "carpet"
           }
          ],
          "choropleth": [
           {
            "colorbar": {
             "outlinewidth": 0,
             "ticks": ""
            },
            "type": "choropleth"
           }
          ],
          "contour": [
           {
            "colorbar": {
             "outlinewidth": 0,
             "ticks": ""
            },
            "colorscale": [
             [
              0,
              "#0d0887"
             ],
             [
              0.1111111111111111,
              "#46039f"
             ],
             [
              0.2222222222222222,
              "#7201a8"
             ],
             [
              0.3333333333333333,
              "#9c179e"
             ],
             [
              0.4444444444444444,
              "#bd3786"
             ],
             [
              0.5555555555555556,
              "#d8576b"
             ],
             [
              0.6666666666666666,
              "#ed7953"
             ],
             [
              0.7777777777777778,
              "#fb9f3a"
             ],
             [
              0.8888888888888888,
              "#fdca26"
             ],
             [
              1,
              "#f0f921"
             ]
            ],
            "type": "contour"
           }
          ],
          "contourcarpet": [
           {
            "colorbar": {
             "outlinewidth": 0,
             "ticks": ""
            },
            "type": "contourcarpet"
           }
          ],
          "heatmap": [
           {
            "colorbar": {
             "outlinewidth": 0,
             "ticks": ""
            },
            "colorscale": [
             [
              0,
              "#0d0887"
             ],
             [
              0.1111111111111111,
              "#46039f"
             ],
             [
              0.2222222222222222,
              "#7201a8"
             ],
             [
              0.3333333333333333,
              "#9c179e"
             ],
             [
              0.4444444444444444,
              "#bd3786"
             ],
             [
              0.5555555555555556,
              "#d8576b"
             ],
             [
              0.6666666666666666,
              "#ed7953"
             ],
             [
              0.7777777777777778,
              "#fb9f3a"
             ],
             [
              0.8888888888888888,
              "#fdca26"
             ],
             [
              1,
              "#f0f921"
             ]
            ],
            "type": "heatmap"
           }
          ],
          "heatmapgl": [
           {
            "colorbar": {
             "outlinewidth": 0,
             "ticks": ""
            },
            "colorscale": [
             [
              0,
              "#0d0887"
             ],
             [
              0.1111111111111111,
              "#46039f"
             ],
             [
              0.2222222222222222,
              "#7201a8"
             ],
             [
              0.3333333333333333,
              "#9c179e"
             ],
             [
              0.4444444444444444,
              "#bd3786"
             ],
             [
              0.5555555555555556,
              "#d8576b"
             ],
             [
              0.6666666666666666,
              "#ed7953"
             ],
             [
              0.7777777777777778,
              "#fb9f3a"
             ],
             [
              0.8888888888888888,
              "#fdca26"
             ],
             [
              1,
              "#f0f921"
             ]
            ],
            "type": "heatmapgl"
           }
          ],
          "histogram": [
           {
            "marker": {
             "pattern": {
              "fillmode": "overlay",
              "size": 10,
              "solidity": 0.2
             }
            },
            "type": "histogram"
           }
          ],
          "histogram2d": [
           {
            "colorbar": {
             "outlinewidth": 0,
             "ticks": ""
            },
            "colorscale": [
             [
              0,
              "#0d0887"
             ],
             [
              0.1111111111111111,
              "#46039f"
             ],
             [
              0.2222222222222222,
              "#7201a8"
             ],
             [
              0.3333333333333333,
              "#9c179e"
             ],
             [
              0.4444444444444444,
              "#bd3786"
             ],
             [
              0.5555555555555556,
              "#d8576b"
             ],
             [
              0.6666666666666666,
              "#ed7953"
             ],
             [
              0.7777777777777778,
              "#fb9f3a"
             ],
             [
              0.8888888888888888,
              "#fdca26"
             ],
             [
              1,
              "#f0f921"
             ]
            ],
            "type": "histogram2d"
           }
          ],
          "histogram2dcontour": [
           {
            "colorbar": {
             "outlinewidth": 0,
             "ticks": ""
            },
            "colorscale": [
             [
              0,
              "#0d0887"
             ],
             [
              0.1111111111111111,
              "#46039f"
             ],
             [
              0.2222222222222222,
              "#7201a8"
             ],
             [
              0.3333333333333333,
              "#9c179e"
             ],
             [
              0.4444444444444444,
              "#bd3786"
             ],
             [
              0.5555555555555556,
              "#d8576b"
             ],
             [
              0.6666666666666666,
              "#ed7953"
             ],
             [
              0.7777777777777778,
              "#fb9f3a"
             ],
             [
              0.8888888888888888,
              "#fdca26"
             ],
             [
              1,
              "#f0f921"
             ]
            ],
            "type": "histogram2dcontour"
           }
          ],
          "mesh3d": [
           {
            "colorbar": {
             "outlinewidth": 0,
             "ticks": ""
            },
            "type": "mesh3d"
           }
          ],
          "parcoords": [
           {
            "line": {
             "colorbar": {
              "outlinewidth": 0,
              "ticks": ""
             }
            },
            "type": "parcoords"
           }
          ],
          "pie": [
           {
            "automargin": true,
            "type": "pie"
           }
          ],
          "scatter": [
           {
            "fillpattern": {
             "fillmode": "overlay",
             "size": 10,
             "solidity": 0.2
            },
            "type": "scatter"
           }
          ],
          "scatter3d": [
           {
            "line": {
             "colorbar": {
              "outlinewidth": 0,
              "ticks": ""
             }
            },
            "marker": {
             "colorbar": {
              "outlinewidth": 0,
              "ticks": ""
             }
            },
            "type": "scatter3d"
           }
          ],
          "scattercarpet": [
           {
            "marker": {
             "colorbar": {
              "outlinewidth": 0,
              "ticks": ""
             }
            },
            "type": "scattercarpet"
           }
          ],
          "scattergeo": [
           {
            "marker": {
             "colorbar": {
              "outlinewidth": 0,
              "ticks": ""
             }
            },
            "type": "scattergeo"
           }
          ],
          "scattergl": [
           {
            "marker": {
             "colorbar": {
              "outlinewidth": 0,
              "ticks": ""
             }
            },
            "type": "scattergl"
           }
          ],
          "scattermapbox": [
           {
            "marker": {
             "colorbar": {
              "outlinewidth": 0,
              "ticks": ""
             }
            },
            "type": "scattermapbox"
           }
          ],
          "scatterpolar": [
           {
            "marker": {
             "colorbar": {
              "outlinewidth": 0,
              "ticks": ""
             }
            },
            "type": "scatterpolar"
           }
          ],
          "scatterpolargl": [
           {
            "marker": {
             "colorbar": {
              "outlinewidth": 0,
              "ticks": ""
             }
            },
            "type": "scatterpolargl"
           }
          ],
          "scatterternary": [
           {
            "marker": {
             "colorbar": {
              "outlinewidth": 0,
              "ticks": ""
             }
            },
            "type": "scatterternary"
           }
          ],
          "surface": [
           {
            "colorbar": {
             "outlinewidth": 0,
             "ticks": ""
            },
            "colorscale": [
             [
              0,
              "#0d0887"
             ],
             [
              0.1111111111111111,
              "#46039f"
             ],
             [
              0.2222222222222222,
              "#7201a8"
             ],
             [
              0.3333333333333333,
              "#9c179e"
             ],
             [
              0.4444444444444444,
              "#bd3786"
             ],
             [
              0.5555555555555556,
              "#d8576b"
             ],
             [
              0.6666666666666666,
              "#ed7953"
             ],
             [
              0.7777777777777778,
              "#fb9f3a"
             ],
             [
              0.8888888888888888,
              "#fdca26"
             ],
             [
              1,
              "#f0f921"
             ]
            ],
            "type": "surface"
           }
          ],
          "table": [
           {
            "cells": {
             "fill": {
              "color": "#EBF0F8"
             },
             "line": {
              "color": "white"
             }
            },
            "header": {
             "fill": {
              "color": "#C8D4E3"
             },
             "line": {
              "color": "white"
             }
            },
            "type": "table"
           }
          ]
         },
         "layout": {
          "annotationdefaults": {
           "arrowcolor": "#2a3f5f",
           "arrowhead": 0,
           "arrowwidth": 1
          },
          "autotypenumbers": "strict",
          "coloraxis": {
           "colorbar": {
            "outlinewidth": 0,
            "ticks": ""
           }
          },
          "colorscale": {
           "diverging": [
            [
             0,
             "#8e0152"
            ],
            [
             0.1,
             "#c51b7d"
            ],
            [
             0.2,
             "#de77ae"
            ],
            [
             0.3,
             "#f1b6da"
            ],
            [
             0.4,
             "#fde0ef"
            ],
            [
             0.5,
             "#f7f7f7"
            ],
            [
             0.6,
             "#e6f5d0"
            ],
            [
             0.7,
             "#b8e186"
            ],
            [
             0.8,
             "#7fbc41"
            ],
            [
             0.9,
             "#4d9221"
            ],
            [
             1,
             "#276419"
            ]
           ],
           "sequential": [
            [
             0,
             "#0d0887"
            ],
            [
             0.1111111111111111,
             "#46039f"
            ],
            [
             0.2222222222222222,
             "#7201a8"
            ],
            [
             0.3333333333333333,
             "#9c179e"
            ],
            [
             0.4444444444444444,
             "#bd3786"
            ],
            [
             0.5555555555555556,
             "#d8576b"
            ],
            [
             0.6666666666666666,
             "#ed7953"
            ],
            [
             0.7777777777777778,
             "#fb9f3a"
            ],
            [
             0.8888888888888888,
             "#fdca26"
            ],
            [
             1,
             "#f0f921"
            ]
           ],
           "sequentialminus": [
            [
             0,
             "#0d0887"
            ],
            [
             0.1111111111111111,
             "#46039f"
            ],
            [
             0.2222222222222222,
             "#7201a8"
            ],
            [
             0.3333333333333333,
             "#9c179e"
            ],
            [
             0.4444444444444444,
             "#bd3786"
            ],
            [
             0.5555555555555556,
             "#d8576b"
            ],
            [
             0.6666666666666666,
             "#ed7953"
            ],
            [
             0.7777777777777778,
             "#fb9f3a"
            ],
            [
             0.8888888888888888,
             "#fdca26"
            ],
            [
             1,
             "#f0f921"
            ]
           ]
          },
          "colorway": [
           "#636efa",
           "#EF553B",
           "#00cc96",
           "#ab63fa",
           "#FFA15A",
           "#19d3f3",
           "#FF6692",
           "#B6E880",
           "#FF97FF",
           "#FECB52"
          ],
          "font": {
           "color": "#2a3f5f"
          },
          "geo": {
           "bgcolor": "white",
           "lakecolor": "white",
           "landcolor": "#E5ECF6",
           "showlakes": true,
           "showland": true,
           "subunitcolor": "white"
          },
          "hoverlabel": {
           "align": "left"
          },
          "hovermode": "closest",
          "mapbox": {
           "style": "light"
          },
          "paper_bgcolor": "white",
          "plot_bgcolor": "#E5ECF6",
          "polar": {
           "angularaxis": {
            "gridcolor": "white",
            "linecolor": "white",
            "ticks": ""
           },
           "bgcolor": "#E5ECF6",
           "radialaxis": {
            "gridcolor": "white",
            "linecolor": "white",
            "ticks": ""
           }
          },
          "scene": {
           "xaxis": {
            "backgroundcolor": "#E5ECF6",
            "gridcolor": "white",
            "gridwidth": 2,
            "linecolor": "white",
            "showbackground": true,
            "ticks": "",
            "zerolinecolor": "white"
           },
           "yaxis": {
            "backgroundcolor": "#E5ECF6",
            "gridcolor": "white",
            "gridwidth": 2,
            "linecolor": "white",
            "showbackground": true,
            "ticks": "",
            "zerolinecolor": "white"
           },
           "zaxis": {
            "backgroundcolor": "#E5ECF6",
            "gridcolor": "white",
            "gridwidth": 2,
            "linecolor": "white",
            "showbackground": true,
            "ticks": "",
            "zerolinecolor": "white"
           }
          },
          "shapedefaults": {
           "line": {
            "color": "#2a3f5f"
           }
          },
          "ternary": {
           "aaxis": {
            "gridcolor": "white",
            "linecolor": "white",
            "ticks": ""
           },
           "baxis": {
            "gridcolor": "white",
            "linecolor": "white",
            "ticks": ""
           },
           "bgcolor": "#E5ECF6",
           "caxis": {
            "gridcolor": "white",
            "linecolor": "white",
            "ticks": ""
           }
          },
          "title": {
           "x": 0.05
          },
          "xaxis": {
           "automargin": true,
           "gridcolor": "white",
           "linecolor": "white",
           "ticks": "",
           "title": {
            "standoff": 15
           },
           "zerolinecolor": "white",
           "zerolinewidth": 2
          },
          "yaxis": {
           "automargin": true,
           "gridcolor": "white",
           "linecolor": "white",
           "ticks": "",
           "title": {
            "standoff": 15
           },
           "zerolinecolor": "white",
           "zerolinewidth": 2
          }
         }
        },
        "title": {
         "text": "Class Distribution",
         "x": 0.45
        },
        "width": 500
       }
      }
     },
     "metadata": {},
     "output_type": "display_data"
    }
   ],
   "source": [
    "fig = px.pie(\n",
    "    names=info.Label.unique(),\n",
    "    values=info.Label.value_counts(),\n",
    "    hole=0.2,\n",
    "    width=500,\n",
    "    height=500\n",
    ")\n",
    "fig.update_layout({'title':{'text':'Class Distribution','x':0.45}})\n",
    "fig.show()"
   ]
  },
  {
   "cell_type": "code",
   "execution_count": 4,
   "metadata": {},
   "outputs": [
    {
     "name": "stdout",
     "output_type": "stream",
     "text": [
      "Found 3192 images belonging to 2 classes.\n",
      "Found 637 images belonging to 2 classes.\n"
     ]
    }
   ],
   "source": [
    "# Data Generators\n",
    "train_gen = ImageDataGenerator(rescale=1./255,validation_split=0.2)\n",
    "# valid_gen = ImageDataGenerator(rescale=1./255)\n",
    "\n",
    "# Loading Data\n",
    "train_data = train_gen.flow_from_directory(\"./monkeypox-skin-lesion-dataset/Augmented Images/Augmented Images\",target_size=(256,256),shuffle=True,class_mode='binary')\n",
    "valid_data = train_gen.flow_from_directory('./monkeypox-skin-lesion-dataset/Augmented Images/Augmented Images',target_size=(256,256),shuffle=True,subset='validation',class_mode='binary')\n",
    "# test_data = valid_gen.flow_from_directory('./monkeypox-skin-lesion-dataset/Original Images/Original Images',target_size=(256,256),shuffle=True,subset='validation',class_mode='binary')"
   ]
  },
  {
   "cell_type": "code",
   "execution_count": 5,
   "metadata": {},
   "outputs": [],
   "source": [
    "# Get all batches of training data\n",
    "train_batches = train_data.__iter__()\n",
    "trainx, trainy = [], []\n",
    "for i in range(len(train_data)):\n",
    "    X, y = next(train_batches)\n",
    "    trainx.append(X)\n",
    "    trainy.append(y)\n",
    "\n",
    "# Concatenate all batches into one array\n",
    "trainx = np.concatenate(trainx)\n",
    "trainy = np.concatenate(trainy)\n",
    "\n",
    "# Get all batches of test data\n",
    "test_batches = valid_data.__iter__()\n",
    "testx, testy = [], []\n",
    "for i in range(len(valid_data)):\n",
    "    X, y = next(test_batches)\n",
    "    testx.append(X)\n",
    "    testy.append(y)\n",
    "\n",
    "# Concatenate all batches into one array\n",
    "testx = np.concatenate(testx)\n",
    "testy = np.concatenate(testy)\n",
    "\n",
    "# # Get all batches of valid data\n",
    "# valid_batches = test_data.__iter__()\n",
    "# validx, validy = [], []\n",
    "# for i in range(len(test_data)):\n",
    "#     X, y = next(valid_batches)\n",
    "#     validx.append(X)\n",
    "#     validy.append(y)\n",
    "\n",
    "# # Concatenate all batches into one array\n",
    "# validx = np.concatenate(validx)\n",
    "# validy = np.concatenate(validy)\n"
   ]
  },
  {
   "cell_type": "code",
   "execution_count": 6,
   "metadata": {},
   "outputs": [
    {
     "name": "stdout",
     "output_type": "stream",
     "text": [
      "(637, 256, 256, 3)\n",
      "(637,)\n",
      "(3192, 256, 256, 3)\n",
      "(3192,)\n"
     ]
    }
   ],
   "source": [
    "print(testx.shape)\n",
    "print(testy.shape)\n",
    "print(trainx.shape)\n",
    "print(trainy.shape)\n",
    "# print(validx.shape)\n",
    "# print(validy.shape)"
   ]
  },
  {
   "cell_type": "code",
   "execution_count": 7,
   "metadata": {},
   "outputs": [],
   "source": [
    "# import tensorflow as tf\n",
    "# from tensorflow.keras.layers import Conv2D, BatchNormalization, Activation, Add, Input\n",
    "# from tensorflow.keras.models import Model\n",
    "\n",
    "# def resnet_block(input_tensor, filters, strides):\n",
    "#     x = Conv2D(filters, 3, strides=strides, padding='same')(input_tensor)\n",
    "#     x = BatchNormalization()(x)\n",
    "#     x = Activation('relu')(x)\n",
    "#     x = Conv2D(filters, 3, padding='same')(x)\n",
    "#     x = BatchNormalization()(x)\n",
    "#     residual = Conv2D(filters, 1, strides=strides, padding='same')(input_tensor)\n",
    "#     x = Add()([x, residual])\n",
    "#     x = Activation('relu')(x)\n",
    "#     return x\n",
    "\n",
    "# def ResNet101V2(input_shape=(256, 256, 3), num_classes=1):\n",
    "#     inputs = Input(shape=input_shape)\n",
    "#     x = Conv2D(64, 7, strides=2, padding='same')(inputs)\n",
    "#     x = BatchNormalization()(x)\n",
    "#     x = Activation('relu')(x)\n",
    "#     x = resnet_block(x, 64, 1)\n",
    "#     for i in range(3):\n",
    "#         x = resnet_block(x, 128, 2)\n",
    "#     for i in range(4):\n",
    "#         x = resnet_block(x, 256, 2)\n",
    "#     for i in range(23):\n",
    "#         x = resnet_block(x, 512, 2)\n",
    "#     x = GlobalAveragePooling2D()(x)\n",
    "#     x = Dense(256, activation='relu')(x)\n",
    "#     x = BatchNormalization()(x)\n",
    "#     x = Dense(164, activation='relu')(x)\n",
    "#     x = BatchNormalization()(x)\n",
    "#     outputs = Dense(num_classes, activation='sigmoid')(x)\n",
    "#     model = Model(inputs, outputs)\n",
    "#     return model\n",
    "\n",
    "# with tf.device('/GPU:0'):\n",
    "#     model = ResNet101V2(input_shape=(256,256,3))\n",
    "#     model.compile(\n",
    "#         loss='binary_crossentropy',\n",
    "#         optimizer='Adam',\n",
    "#         metrics=['accuracy']\n",
    "#     )\n",
    "#     cb = [EarlyStopping(patience=5,monitor='val_accuracy',mode='max',restore_best_weights=True),\n",
    "#           ModelCheckpoint(\"ResNet101V2-01.h5\",save_best_only=True)]\n",
    "\n",
    "#     model.fit(\n",
    "#         train_data,\n",
    "#         epochs=50,\n",
    "#         validation_data=valid_data,\n",
    "#         callbacks=cb\n",
    "#     )\n"
   ]
  },
  {
   "cell_type": "code",
   "execution_count": 8,
   "metadata": {},
   "outputs": [
    {
     "name": "stdout",
     "output_type": "stream",
     "text": [
      "Epoch 1/50\n",
      "100/100 [==============================] - 39s 299ms/step - loss: 0.2471 - accuracy: 0.8944 - val_loss: 0.0734 - val_accuracy: 0.9827\n",
      "Epoch 2/50\n",
      "100/100 [==============================] - 26s 259ms/step - loss: 0.0749 - accuracy: 0.9759 - val_loss: 0.0433 - val_accuracy: 0.9890\n",
      "Epoch 3/50\n",
      "100/100 [==============================] - 26s 255ms/step - loss: 0.0646 - accuracy: 0.9784 - val_loss: 0.0293 - val_accuracy: 0.9890\n",
      "Epoch 4/50\n",
      "100/100 [==============================] - 26s 259ms/step - loss: 0.0607 - accuracy: 0.9781 - val_loss: 0.0245 - val_accuracy: 0.9953\n",
      "Epoch 5/50\n",
      "100/100 [==============================] - 27s 263ms/step - loss: 0.0337 - accuracy: 0.9903 - val_loss: 0.0159 - val_accuracy: 0.9953\n",
      "Epoch 6/50\n",
      "100/100 [==============================] - 26s 260ms/step - loss: 0.0365 - accuracy: 0.9881 - val_loss: 0.0126 - val_accuracy: 0.9969\n",
      "Epoch 7/50\n",
      "100/100 [==============================] - 26s 261ms/step - loss: 0.0402 - accuracy: 0.9862 - val_loss: 0.0073 - val_accuracy: 1.0000\n",
      "Epoch 8/50\n",
      "100/100 [==============================] - 23s 230ms/step - loss: 0.0298 - accuracy: 0.9909 - val_loss: 0.0078 - val_accuracy: 0.9969\n",
      "Epoch 9/50\n",
      "100/100 [==============================] - 23s 230ms/step - loss: 0.0324 - accuracy: 0.9884 - val_loss: 0.0176 - val_accuracy: 0.9953\n",
      "Epoch 10/50\n",
      "100/100 [==============================] - 23s 230ms/step - loss: 0.0445 - accuracy: 0.9862 - val_loss: 0.0134 - val_accuracy: 0.9953\n",
      "Epoch 11/50\n",
      "100/100 [==============================] - 23s 230ms/step - loss: 0.0290 - accuracy: 0.9893 - val_loss: 0.0329 - val_accuracy: 0.9922\n",
      "Epoch 12/50\n",
      "100/100 [==============================] - 23s 233ms/step - loss: 0.0243 - accuracy: 0.9903 - val_loss: 0.0238 - val_accuracy: 0.9922\n"
     ]
    },
    {
     "data": {
      "text/plain": [
       "<keras.callbacks.History at 0x1eb8bdb9190>"
      ]
     },
     "execution_count": 8,
     "metadata": {},
     "output_type": "execute_result"
    }
   ],
   "source": [
    "\n",
    "with tf.device('/GPU:0'):\n",
    "  base_model = ResNet101V2(\n",
    "      include_top=False,\n",
    "      input_shape=(256,256,3)\n",
    "  )\n",
    "  base_model.trainable = False\n",
    "\n",
    "  model = Sequential([\n",
    "      base_model,\n",
    "      GlobalAveragePooling2D(),\n",
    "      Dense(256,activation='relu'),\n",
    "      BatchNormalization(),\n",
    "      Dense(164,activation='relu'),\n",
    "      BatchNormalization(),\n",
    "      Dense(1,activation='sigmoid')\n",
    "  ])\n",
    "\n",
    "  model.compile(\n",
    "      loss='binary_crossentropy',\n",
    "      optimizer='Adam',\n",
    "      metrics=['accuracy']\n",
    "  )\n",
    "\n",
    "cb = [EarlyStopping(patience=5,monitor='val_accuracy',mode='max',restore_best_weights=True),ModelCheckpoint(\"ResNet101V2-01.h5\",save_best_only=True)]\n",
    "\n",
    "model.fit(\n",
    "    train_data,\n",
    "    epochs=50,\n",
    "    validation_data=valid_data,\n",
    "    callbacks=cb\n",
    ")\n"
   ]
  },
  {
   "cell_type": "code",
   "execution_count": 9,
   "metadata": {},
   "outputs": [
    {
     "name": "stdout",
     "output_type": "stream",
     "text": [
      "Model: \"sequential\"\n",
      "_________________________________________________________________\n",
      " Layer (type)                Output Shape              Param #   \n",
      "=================================================================\n",
      " resnet101v2 (Functional)    (None, 8, 8, 2048)        42626560  \n",
      "                                                                 \n",
      " global_average_pooling2d (G  (None, 2048)             0         \n",
      " lobalAveragePooling2D)                                          \n",
      "                                                                 \n",
      " dense (Dense)               (None, 256)               524544    \n",
      "                                                                 \n",
      " batch_normalization (BatchN  (None, 256)              1024      \n",
      " ormalization)                                                   \n",
      "                                                                 \n",
      " dense_1 (Dense)             (None, 164)               42148     \n",
      "                                                                 \n",
      " batch_normalization_1 (Batc  (None, 164)              656       \n",
      " hNormalization)                                                 \n",
      "                                                                 \n",
      " dense_2 (Dense)             (None, 1)                 165       \n",
      "                                                                 \n",
      "=================================================================\n",
      "Total params: 43,195,097\n",
      "Trainable params: 567,697\n",
      "Non-trainable params: 42,627,400\n",
      "_________________________________________________________________\n"
     ]
    }
   ],
   "source": [
    "model.summary()"
   ]
  },
  {
   "cell_type": "code",
   "execution_count": 10,
   "metadata": {},
   "outputs": [
    {
     "name": "stdout",
     "output_type": "stream",
     "text": [
      "Epoch 1/50\n",
      "100/100 [==============================] - 31s 249ms/step - loss: 0.0448 - accuracy: 0.9853 - val_loss: 0.0249 - val_accuracy: 0.9906\n",
      "Epoch 2/50\n",
      "100/100 [==============================] - 23s 231ms/step - loss: 0.0342 - accuracy: 0.9865 - val_loss: 0.0034 - val_accuracy: 1.0000\n",
      "Epoch 3/50\n",
      "100/100 [==============================] - 23s 231ms/step - loss: 0.0362 - accuracy: 0.9865 - val_loss: 0.0101 - val_accuracy: 0.9937\n",
      "Epoch 4/50\n",
      "100/100 [==============================] - 23s 231ms/step - loss: 0.0189 - accuracy: 0.9925 - val_loss: 0.0140 - val_accuracy: 0.9953\n",
      "Epoch 5/50\n",
      "100/100 [==============================] - 23s 231ms/step - loss: 0.0257 - accuracy: 0.9900 - val_loss: 0.0128 - val_accuracy: 0.9953\n",
      "Epoch 6/50\n",
      "100/100 [==============================] - 23s 231ms/step - loss: 0.0241 - accuracy: 0.9915 - val_loss: 0.0135 - val_accuracy: 0.9937\n",
      "Epoch 7/50\n",
      "100/100 [==============================] - 23s 231ms/step - loss: 0.0341 - accuracy: 0.9862 - val_loss: 0.0087 - val_accuracy: 0.9984\n",
      "Epoch 8/50\n",
      "100/100 [==============================] - 23s 231ms/step - loss: 0.0245 - accuracy: 0.9934 - val_loss: 0.0104 - val_accuracy: 0.9953\n",
      "Epoch 9/50\n",
      "100/100 [==============================] - 23s 231ms/step - loss: 0.0121 - accuracy: 0.9959 - val_loss: 0.0049 - val_accuracy: 1.0000\n",
      "Epoch 10/50\n",
      "100/100 [==============================] - 23s 232ms/step - loss: 0.0159 - accuracy: 0.9940 - val_loss: 0.0098 - val_accuracy: 0.9969\n",
      "Epoch 11/50\n",
      "100/100 [==============================] - 23s 231ms/step - loss: 0.0209 - accuracy: 0.9925 - val_loss: 0.0070 - val_accuracy: 0.9984\n",
      "Epoch 12/50\n",
      "100/100 [==============================] - 23s 231ms/step - loss: 0.0208 - accuracy: 0.9934 - val_loss: 0.0027 - val_accuracy: 0.9984\n",
      "Epoch 13/50\n",
      "100/100 [==============================] - 23s 231ms/step - loss: 0.0175 - accuracy: 0.9934 - val_loss: 0.0030 - val_accuracy: 1.0000\n",
      "Epoch 14/50\n",
      "100/100 [==============================] - 23s 231ms/step - loss: 0.0151 - accuracy: 0.9947 - val_loss: 0.0104 - val_accuracy: 0.9953\n",
      "Epoch 15/50\n",
      "100/100 [==============================] - 23s 231ms/step - loss: 0.0162 - accuracy: 0.9931 - val_loss: 0.0021 - val_accuracy: 1.0000\n",
      "Epoch 16/50\n",
      "100/100 [==============================] - 23s 231ms/step - loss: 0.0069 - accuracy: 0.9975 - val_loss: 0.0011 - val_accuracy: 1.0000\n",
      "Epoch 17/50\n",
      "100/100 [==============================] - 23s 231ms/step - loss: 0.0069 - accuracy: 0.9975 - val_loss: 5.0278e-04 - val_accuracy: 1.0000\n",
      "Epoch 18/50\n",
      "100/100 [==============================] - 23s 231ms/step - loss: 0.0064 - accuracy: 0.9991 - val_loss: 7.8362e-04 - val_accuracy: 1.0000\n",
      "Epoch 19/50\n",
      "100/100 [==============================] - 23s 231ms/step - loss: 0.0051 - accuracy: 0.9987 - val_loss: 5.4352e-04 - val_accuracy: 1.0000\n",
      "Epoch 20/50\n",
      "100/100 [==============================] - 23s 231ms/step - loss: 0.0105 - accuracy: 0.9969 - val_loss: 1.9729e-04 - val_accuracy: 1.0000\n",
      "Epoch 21/50\n",
      "100/100 [==============================] - 23s 232ms/step - loss: 0.0109 - accuracy: 0.9959 - val_loss: 0.0051 - val_accuracy: 0.9984\n",
      "Epoch 22/50\n",
      "100/100 [==============================] - 23s 231ms/step - loss: 0.0097 - accuracy: 0.9975 - val_loss: 0.0026 - val_accuracy: 1.0000\n",
      "Epoch 23/50\n",
      "100/100 [==============================] - 23s 231ms/step - loss: 0.0058 - accuracy: 0.9978 - val_loss: 0.0010 - val_accuracy: 1.0000\n",
      "Epoch 24/50\n",
      "100/100 [==============================] - 23s 231ms/step - loss: 0.0078 - accuracy: 0.9975 - val_loss: 0.0011 - val_accuracy: 1.0000\n",
      "Epoch 25/50\n",
      "100/100 [==============================] - 23s 230ms/step - loss: 0.0108 - accuracy: 0.9972 - val_loss: 0.0028 - val_accuracy: 0.9984\n",
      "Epoch 26/50\n",
      "100/100 [==============================] - 23s 230ms/step - loss: 0.0053 - accuracy: 0.9984 - val_loss: 5.2561e-04 - val_accuracy: 1.0000\n",
      "Epoch 27/50\n",
      "100/100 [==============================] - 23s 231ms/step - loss: 0.0127 - accuracy: 0.9975 - val_loss: 0.0179 - val_accuracy: 0.9937\n",
      "Epoch 28/50\n",
      "100/100 [==============================] - 23s 230ms/step - loss: 0.0286 - accuracy: 0.9906 - val_loss: 0.0129 - val_accuracy: 0.9922\n",
      "Epoch 29/50\n",
      "100/100 [==============================] - 23s 229ms/step - loss: 0.0267 - accuracy: 0.9903 - val_loss: 0.0120 - val_accuracy: 0.9953\n",
      "Epoch 30/50\n",
      "100/100 [==============================] - 23s 229ms/step - loss: 0.0178 - accuracy: 0.9919 - val_loss: 0.0030 - val_accuracy: 1.0000\n",
      "Epoch 31/50\n",
      "100/100 [==============================] - 23s 229ms/step - loss: 0.0045 - accuracy: 0.9987 - val_loss: 2.7469e-04 - val_accuracy: 1.0000\n",
      "Epoch 32/50\n",
      "100/100 [==============================] - 23s 229ms/step - loss: 0.0063 - accuracy: 0.9981 - val_loss: 4.0189e-04 - val_accuracy: 1.0000\n",
      "Epoch 33/50\n",
      "100/100 [==============================] - 23s 229ms/step - loss: 0.0043 - accuracy: 0.9984 - val_loss: 3.5506e-04 - val_accuracy: 1.0000\n",
      "Epoch 34/50\n",
      "100/100 [==============================] - 23s 230ms/step - loss: 0.0045 - accuracy: 0.9984 - val_loss: 3.1781e-04 - val_accuracy: 1.0000\n",
      "Epoch 35/50\n",
      "100/100 [==============================] - 23s 230ms/step - loss: 0.0026 - accuracy: 0.9994 - val_loss: 3.3558e-04 - val_accuracy: 1.0000\n",
      "Epoch 36/50\n",
      "100/100 [==============================] - 23s 231ms/step - loss: 0.0046 - accuracy: 0.9981 - val_loss: 0.0110 - val_accuracy: 0.9984\n",
      "Epoch 37/50\n",
      "100/100 [==============================] - 23s 231ms/step - loss: 0.0061 - accuracy: 0.9984 - val_loss: 0.0013 - val_accuracy: 1.0000\n",
      "Epoch 38/50\n",
      "100/100 [==============================] - 23s 230ms/step - loss: 0.0066 - accuracy: 0.9975 - val_loss: 0.0021 - val_accuracy: 0.9984\n",
      "Epoch 39/50\n",
      "100/100 [==============================] - 23s 231ms/step - loss: 0.0060 - accuracy: 0.9975 - val_loss: 1.1948e-04 - val_accuracy: 1.0000\n",
      "Epoch 40/50\n",
      "100/100 [==============================] - 23s 231ms/step - loss: 0.0126 - accuracy: 0.9956 - val_loss: 0.0017 - val_accuracy: 1.0000\n",
      "Epoch 41/50\n",
      "100/100 [==============================] - 23s 231ms/step - loss: 0.0152 - accuracy: 0.9966 - val_loss: 0.0037 - val_accuracy: 0.9984\n",
      "Epoch 42/50\n",
      "100/100 [==============================] - 23s 231ms/step - loss: 0.0090 - accuracy: 0.9978 - val_loss: 3.5399e-04 - val_accuracy: 1.0000\n",
      "Epoch 43/50\n",
      "100/100 [==============================] - 23s 231ms/step - loss: 0.0051 - accuracy: 0.9981 - val_loss: 1.9953e-04 - val_accuracy: 1.0000\n",
      "Epoch 44/50\n",
      "100/100 [==============================] - 23s 231ms/step - loss: 0.0049 - accuracy: 0.9984 - val_loss: 4.0683e-04 - val_accuracy: 1.0000\n",
      "Epoch 45/50\n",
      "100/100 [==============================] - 23s 231ms/step - loss: 0.0045 - accuracy: 0.9981 - val_loss: 1.3893e-04 - val_accuracy: 1.0000\n",
      "Epoch 46/50\n",
      "100/100 [==============================] - 23s 230ms/step - loss: 0.0042 - accuracy: 0.9981 - val_loss: 1.4192e-04 - val_accuracy: 1.0000\n",
      "Epoch 47/50\n",
      "100/100 [==============================] - 23s 230ms/step - loss: 0.0055 - accuracy: 0.9978 - val_loss: 8.5474e-05 - val_accuracy: 1.0000\n",
      "Epoch 48/50\n",
      "100/100 [==============================] - 23s 231ms/step - loss: 0.0030 - accuracy: 0.9987 - val_loss: 1.0806e-04 - val_accuracy: 1.0000\n",
      "Epoch 49/50\n",
      "100/100 [==============================] - 23s 231ms/step - loss: 0.0041 - accuracy: 0.9987 - val_loss: 0.0021 - val_accuracy: 0.9984\n",
      "Epoch 50/50\n",
      "100/100 [==============================] - 23s 231ms/step - loss: 0.0033 - accuracy: 0.9987 - val_loss: 3.2469e-05 - val_accuracy: 1.0000\n",
      "Epoch 1/50\n",
      "100/100 [==============================] - 31s 249ms/step - loss: 0.0091 - accuracy: 0.9962 - val_loss: 0.0091 - val_accuracy: 0.9969\n",
      "Epoch 2/50\n",
      "100/100 [==============================] - 23s 230ms/step - loss: 0.0122 - accuracy: 0.9962 - val_loss: 5.4335e-04 - val_accuracy: 1.0000\n",
      "Epoch 3/50\n",
      "100/100 [==============================] - 23s 232ms/step - loss: 0.0120 - accuracy: 0.9956 - val_loss: 2.2754e-04 - val_accuracy: 1.0000\n",
      "Epoch 4/50\n",
      "100/100 [==============================] - 23s 231ms/step - loss: 0.0029 - accuracy: 0.9991 - val_loss: 5.8151e-05 - val_accuracy: 1.0000\n",
      "Epoch 5/50\n",
      "100/100 [==============================] - 23s 231ms/step - loss: 0.0081 - accuracy: 0.9969 - val_loss: 1.2783e-04 - val_accuracy: 1.0000\n",
      "Epoch 6/50\n",
      "100/100 [==============================] - 23s 231ms/step - loss: 0.0052 - accuracy: 0.9981 - val_loss: 6.0108e-04 - val_accuracy: 1.0000\n",
      "Epoch 7/50\n",
      "100/100 [==============================] - 23s 232ms/step - loss: 0.0067 - accuracy: 0.9975 - val_loss: 3.6136e-04 - val_accuracy: 1.0000\n",
      "Epoch 8/50\n",
      "100/100 [==============================] - 23s 231ms/step - loss: 0.0063 - accuracy: 0.9978 - val_loss: 0.0017 - val_accuracy: 1.0000\n",
      "Epoch 9/50\n",
      "100/100 [==============================] - 23s 231ms/step - loss: 0.0019 - accuracy: 0.9994 - val_loss: 0.0026 - val_accuracy: 0.9984\n",
      "Epoch 10/50\n",
      "100/100 [==============================] - 23s 231ms/step - loss: 0.0071 - accuracy: 0.9972 - val_loss: 0.0097 - val_accuracy: 0.9984\n",
      "Epoch 11/50\n",
      "100/100 [==============================] - 23s 230ms/step - loss: 0.0091 - accuracy: 0.9966 - val_loss: 9.6652e-04 - val_accuracy: 1.0000\n",
      "Epoch 12/50\n",
      "100/100 [==============================] - 23s 231ms/step - loss: 0.0083 - accuracy: 0.9972 - val_loss: 4.7076e-05 - val_accuracy: 1.0000\n",
      "Epoch 13/50\n",
      "100/100 [==============================] - 23s 231ms/step - loss: 0.0087 - accuracy: 0.9972 - val_loss: 0.0023 - val_accuracy: 1.0000\n",
      "Epoch 14/50\n",
      "100/100 [==============================] - 23s 231ms/step - loss: 0.0051 - accuracy: 0.9981 - val_loss: 1.2578e-04 - val_accuracy: 1.0000\n",
      "Epoch 15/50\n",
      "100/100 [==============================] - 23s 231ms/step - loss: 0.0025 - accuracy: 0.9991 - val_loss: 2.9234e-04 - val_accuracy: 1.0000\n",
      "Epoch 16/50\n",
      "100/100 [==============================] - 23s 231ms/step - loss: 0.0065 - accuracy: 0.9978 - val_loss: 5.2198e-05 - val_accuracy: 1.0000\n",
      "Epoch 17/50\n",
      "100/100 [==============================] - 23s 230ms/step - loss: 0.0030 - accuracy: 0.9991 - val_loss: 2.6070e-04 - val_accuracy: 1.0000\n",
      "Epoch 18/50\n",
      "100/100 [==============================] - 23s 231ms/step - loss: 0.0011 - accuracy: 1.0000 - val_loss: 5.4973e-05 - val_accuracy: 1.0000\n",
      "Epoch 19/50\n",
      "100/100 [==============================] - 23s 230ms/step - loss: 0.0017 - accuracy: 0.9994 - val_loss: 5.9909e-05 - val_accuracy: 1.0000\n",
      "Epoch 20/50\n",
      "100/100 [==============================] - 23s 230ms/step - loss: 0.0062 - accuracy: 0.9984 - val_loss: 0.0016 - val_accuracy: 1.0000\n",
      "Epoch 21/50\n",
      "100/100 [==============================] - 23s 231ms/step - loss: 0.0114 - accuracy: 0.9972 - val_loss: 2.4449e-04 - val_accuracy: 1.0000\n",
      "Epoch 22/50\n",
      "100/100 [==============================] - 23s 231ms/step - loss: 0.0067 - accuracy: 0.9987 - val_loss: 8.4798e-04 - val_accuracy: 1.0000\n",
      "Epoch 23/50\n",
      "100/100 [==============================] - 23s 229ms/step - loss: 0.0070 - accuracy: 0.9984 - val_loss: 1.3418e-04 - val_accuracy: 1.0000\n",
      "Epoch 24/50\n",
      "100/100 [==============================] - 23s 230ms/step - loss: 0.0043 - accuracy: 0.9987 - val_loss: 8.4482e-04 - val_accuracy: 1.0000\n",
      "Epoch 25/50\n",
      "100/100 [==============================] - 23s 229ms/step - loss: 0.0016 - accuracy: 0.9997 - val_loss: 1.4791e-04 - val_accuracy: 1.0000\n",
      "Epoch 26/50\n",
      "100/100 [==============================] - 23s 229ms/step - loss: 0.0019 - accuracy: 0.9997 - val_loss: 1.1237e-04 - val_accuracy: 1.0000\n",
      "Epoch 27/50\n",
      "100/100 [==============================] - 23s 230ms/step - loss: 6.9075e-04 - accuracy: 1.0000 - val_loss: 5.8448e-05 - val_accuracy: 1.0000\n",
      "Epoch 28/50\n",
      "100/100 [==============================] - 23s 229ms/step - loss: 0.0014 - accuracy: 0.9994 - val_loss: 3.2633e-05 - val_accuracy: 1.0000\n",
      "Epoch 29/50\n",
      "100/100 [==============================] - 23s 229ms/step - loss: 0.0018 - accuracy: 0.9997 - val_loss: 3.7310e-05 - val_accuracy: 1.0000\n",
      "Epoch 30/50\n",
      "100/100 [==============================] - 23s 229ms/step - loss: 3.5072e-04 - accuracy: 1.0000 - val_loss: 9.7074e-06 - val_accuracy: 1.0000\n",
      "Epoch 31/50\n",
      "100/100 [==============================] - 23s 229ms/step - loss: 0.0059 - accuracy: 0.9978 - val_loss: 9.6895e-05 - val_accuracy: 1.0000\n",
      "Epoch 32/50\n",
      "100/100 [==============================] - 23s 229ms/step - loss: 0.0121 - accuracy: 0.9966 - val_loss: 0.0046 - val_accuracy: 0.9984\n",
      "Epoch 33/50\n",
      "100/100 [==============================] - 23s 229ms/step - loss: 0.0031 - accuracy: 0.9991 - val_loss: 7.5392e-04 - val_accuracy: 1.0000\n",
      "Epoch 34/50\n",
      "100/100 [==============================] - 23s 229ms/step - loss: 0.0036 - accuracy: 0.9987 - val_loss: 1.5384e-04 - val_accuracy: 1.0000\n",
      "Epoch 35/50\n",
      "100/100 [==============================] - 23s 229ms/step - loss: 6.6759e-04 - accuracy: 1.0000 - val_loss: 6.7775e-05 - val_accuracy: 1.0000\n",
      "Epoch 36/50\n",
      "100/100 [==============================] - 23s 229ms/step - loss: 0.0068 - accuracy: 0.9975 - val_loss: 2.1188e-04 - val_accuracy: 1.0000\n",
      "Epoch 37/50\n",
      "100/100 [==============================] - 23s 234ms/step - loss: 0.0033 - accuracy: 0.9994 - val_loss: 8.8611e-05 - val_accuracy: 1.0000\n",
      "Epoch 38/50\n",
      "100/100 [==============================] - 23s 233ms/step - loss: 0.0039 - accuracy: 0.9987 - val_loss: 3.6521e-05 - val_accuracy: 1.0000\n",
      "Epoch 39/50\n",
      "100/100 [==============================] - 23s 231ms/step - loss: 0.0029 - accuracy: 0.9987 - val_loss: 6.2637e-05 - val_accuracy: 1.0000\n",
      "Epoch 40/50\n",
      "100/100 [==============================] - 23s 231ms/step - loss: 0.0091 - accuracy: 0.9972 - val_loss: 0.0178 - val_accuracy: 0.9953\n",
      "Epoch 41/50\n",
      "100/100 [==============================] - 23s 229ms/step - loss: 0.0084 - accuracy: 0.9975 - val_loss: 1.2723e-04 - val_accuracy: 1.0000\n",
      "Epoch 42/50\n",
      "100/100 [==============================] - 23s 229ms/step - loss: 0.0103 - accuracy: 0.9969 - val_loss: 0.0159 - val_accuracy: 0.9953\n",
      "Epoch 43/50\n",
      "100/100 [==============================] - 23s 229ms/step - loss: 0.0078 - accuracy: 0.9969 - val_loss: 3.2109e-04 - val_accuracy: 1.0000\n",
      "Epoch 44/50\n",
      "100/100 [==============================] - 23s 229ms/step - loss: 0.0024 - accuracy: 0.9987 - val_loss: 2.8592e-04 - val_accuracy: 1.0000\n",
      "Epoch 45/50\n",
      "100/100 [==============================] - 23s 229ms/step - loss: 8.3895e-04 - accuracy: 1.0000 - val_loss: 3.1926e-05 - val_accuracy: 1.0000\n",
      "Epoch 46/50\n",
      "100/100 [==============================] - 23s 229ms/step - loss: 0.0058 - accuracy: 0.9978 - val_loss: 2.7793e-05 - val_accuracy: 1.0000\n",
      "Epoch 47/50\n",
      "100/100 [==============================] - 23s 229ms/step - loss: 0.0017 - accuracy: 0.9997 - val_loss: 3.0116e-05 - val_accuracy: 1.0000\n",
      "Epoch 48/50\n",
      "100/100 [==============================] - 23s 229ms/step - loss: 0.0024 - accuracy: 0.9994 - val_loss: 9.9007e-04 - val_accuracy: 1.0000\n",
      "Epoch 49/50\n",
      "100/100 [==============================] - 23s 229ms/step - loss: 5.7909e-04 - accuracy: 1.0000 - val_loss: 1.4558e-05 - val_accuracy: 1.0000\n",
      "Epoch 50/50\n",
      "100/100 [==============================] - 23s 229ms/step - loss: 2.2966e-04 - accuracy: 1.0000 - val_loss: 5.1512e-06 - val_accuracy: 1.0000\n",
      "Epoch 1/50\n",
      "100/100 [==============================] - 30s 246ms/step - loss: 0.0020 - accuracy: 0.9991 - val_loss: 5.3847e-05 - val_accuracy: 1.0000\n",
      "Epoch 2/50\n",
      "100/100 [==============================] - 23s 229ms/step - loss: 6.4539e-04 - accuracy: 0.9997 - val_loss: 1.3706e-05 - val_accuracy: 1.0000\n",
      "Epoch 3/50\n",
      "100/100 [==============================] - 23s 229ms/step - loss: 0.0016 - accuracy: 0.9997 - val_loss: 4.6730e-06 - val_accuracy: 1.0000\n",
      "Epoch 4/50\n",
      "100/100 [==============================] - 23s 229ms/step - loss: 0.0135 - accuracy: 0.9962 - val_loss: 4.0363e-04 - val_accuracy: 1.0000\n",
      "Epoch 5/50\n",
      "100/100 [==============================] - 23s 229ms/step - loss: 0.0040 - accuracy: 0.9991 - val_loss: 9.2373e-05 - val_accuracy: 1.0000\n",
      "Epoch 6/50\n",
      "100/100 [==============================] - 23s 229ms/step - loss: 0.0030 - accuracy: 0.9991 - val_loss: 4.9024e-05 - val_accuracy: 1.0000\n",
      "Epoch 7/50\n",
      "100/100 [==============================] - 23s 229ms/step - loss: 0.0084 - accuracy: 0.9962 - val_loss: 5.4537e-04 - val_accuracy: 1.0000\n",
      "Epoch 8/50\n",
      "100/100 [==============================] - 23s 229ms/step - loss: 0.0120 - accuracy: 0.9972 - val_loss: 2.0735e-04 - val_accuracy: 1.0000\n",
      "Epoch 9/50\n",
      "100/100 [==============================] - 23s 229ms/step - loss: 0.0067 - accuracy: 0.9978 - val_loss: 5.1528e-04 - val_accuracy: 1.0000\n",
      "Epoch 10/50\n",
      "100/100 [==============================] - 23s 229ms/step - loss: 0.0057 - accuracy: 0.9981 - val_loss: 1.5829e-04 - val_accuracy: 1.0000\n",
      "Epoch 11/50\n",
      "100/100 [==============================] - 23s 230ms/step - loss: 0.0030 - accuracy: 0.9994 - val_loss: 0.0015 - val_accuracy: 0.9984\n",
      "Epoch 12/50\n",
      "100/100 [==============================] - 23s 229ms/step - loss: 0.0016 - accuracy: 0.9994 - val_loss: 2.8591e-05 - val_accuracy: 1.0000\n",
      "Epoch 13/50\n",
      "100/100 [==============================] - 23s 229ms/step - loss: 0.0020 - accuracy: 0.9991 - val_loss: 4.8608e-04 - val_accuracy: 1.0000\n",
      "Epoch 14/50\n",
      "100/100 [==============================] - 23s 229ms/step - loss: 0.0011 - accuracy: 1.0000 - val_loss: 1.7716e-04 - val_accuracy: 1.0000\n",
      "Epoch 15/50\n",
      "100/100 [==============================] - 23s 230ms/step - loss: 3.2262e-04 - accuracy: 1.0000 - val_loss: 2.1450e-05 - val_accuracy: 1.0000\n",
      "Epoch 16/50\n",
      "100/100 [==============================] - 23s 230ms/step - loss: 2.4198e-04 - accuracy: 1.0000 - val_loss: 8.6829e-06 - val_accuracy: 1.0000\n",
      "Epoch 17/50\n",
      "100/100 [==============================] - 23s 230ms/step - loss: 0.0029 - accuracy: 0.9994 - val_loss: 1.6336e-05 - val_accuracy: 1.0000\n",
      "Epoch 18/50\n",
      "100/100 [==============================] - 23s 229ms/step - loss: 0.0014 - accuracy: 0.9994 - val_loss: 1.1988e-05 - val_accuracy: 1.0000\n",
      "Epoch 19/50\n",
      "100/100 [==============================] - 23s 229ms/step - loss: 0.0016 - accuracy: 0.9994 - val_loss: 2.1873e-04 - val_accuracy: 1.0000\n",
      "Epoch 20/50\n",
      "100/100 [==============================] - 23s 229ms/step - loss: 0.0022 - accuracy: 0.9994 - val_loss: 1.0727e-04 - val_accuracy: 1.0000\n",
      "Epoch 21/50\n",
      "100/100 [==============================] - 23s 229ms/step - loss: 0.0059 - accuracy: 0.9981 - val_loss: 3.3382e-04 - val_accuracy: 1.0000\n",
      "Epoch 22/50\n",
      "100/100 [==============================] - 23s 229ms/step - loss: 0.0038 - accuracy: 0.9994 - val_loss: 1.2404e-04 - val_accuracy: 1.0000\n",
      "Epoch 23/50\n",
      "100/100 [==============================] - 23s 230ms/step - loss: 0.0016 - accuracy: 0.9991 - val_loss: 2.1838e-04 - val_accuracy: 1.0000\n",
      "Epoch 24/50\n",
      "100/100 [==============================] - 23s 229ms/step - loss: 0.0037 - accuracy: 0.9994 - val_loss: 5.7340e-04 - val_accuracy: 1.0000\n",
      "Epoch 25/50\n",
      "100/100 [==============================] - 23s 229ms/step - loss: 0.0024 - accuracy: 0.9994 - val_loss: 1.4678e-04 - val_accuracy: 1.0000\n",
      "Epoch 26/50\n",
      "100/100 [==============================] - 23s 229ms/step - loss: 0.0048 - accuracy: 0.9981 - val_loss: 0.0076 - val_accuracy: 0.9984\n",
      "Epoch 27/50\n",
      "100/100 [==============================] - 23s 229ms/step - loss: 0.0048 - accuracy: 0.9987 - val_loss: 1.7081e-04 - val_accuracy: 1.0000\n",
      "Epoch 28/50\n",
      "100/100 [==============================] - 23s 229ms/step - loss: 0.0066 - accuracy: 0.9969 - val_loss: 0.0213 - val_accuracy: 0.9969\n",
      "Epoch 29/50\n",
      "100/100 [==============================] - 23s 229ms/step - loss: 0.0107 - accuracy: 0.9969 - val_loss: 0.0054 - val_accuracy: 0.9984\n",
      "Epoch 30/50\n",
      "100/100 [==============================] - 23s 229ms/step - loss: 0.0057 - accuracy: 0.9975 - val_loss: 1.3463e-04 - val_accuracy: 1.0000\n",
      "Epoch 31/50\n",
      "100/100 [==============================] - 23s 229ms/step - loss: 9.9902e-04 - accuracy: 0.9997 - val_loss: 1.6342e-05 - val_accuracy: 1.0000\n",
      "Epoch 32/50\n",
      "100/100 [==============================] - 23s 229ms/step - loss: 0.0016 - accuracy: 0.9994 - val_loss: 2.0613e-05 - val_accuracy: 1.0000\n",
      "Epoch 33/50\n",
      "100/100 [==============================] - 23s 231ms/step - loss: 0.0024 - accuracy: 0.9991 - val_loss: 4.0681e-04 - val_accuracy: 1.0000\n",
      "Epoch 34/50\n",
      "100/100 [==============================] - 23s 231ms/step - loss: 0.0042 - accuracy: 0.9987 - val_loss: 9.6933e-05 - val_accuracy: 1.0000\n",
      "Epoch 35/50\n",
      "100/100 [==============================] - 23s 230ms/step - loss: 0.0011 - accuracy: 1.0000 - val_loss: 1.4330e-04 - val_accuracy: 1.0000\n",
      "Epoch 36/50\n",
      "100/100 [==============================] - 23s 229ms/step - loss: 0.0027 - accuracy: 0.9994 - val_loss: 0.0020 - val_accuracy: 1.0000\n",
      "Epoch 37/50\n",
      "100/100 [==============================] - 23s 229ms/step - loss: 0.0042 - accuracy: 0.9978 - val_loss: 5.3083e-05 - val_accuracy: 1.0000\n",
      "Epoch 38/50\n",
      "100/100 [==============================] - 23s 229ms/step - loss: 0.0025 - accuracy: 0.9994 - val_loss: 3.2969e-05 - val_accuracy: 1.0000\n",
      "Epoch 39/50\n",
      "100/100 [==============================] - 23s 229ms/step - loss: 5.7699e-04 - accuracy: 1.0000 - val_loss: 2.2279e-05 - val_accuracy: 1.0000\n",
      "Epoch 40/50\n",
      "100/100 [==============================] - 23s 229ms/step - loss: 9.0745e-04 - accuracy: 1.0000 - val_loss: 0.0027 - val_accuracy: 0.9984\n",
      "Epoch 41/50\n",
      "100/100 [==============================] - 23s 229ms/step - loss: 0.0055 - accuracy: 0.9981 - val_loss: 5.9044e-05 - val_accuracy: 1.0000\n",
      "Epoch 42/50\n",
      "100/100 [==============================] - 23s 229ms/step - loss: 5.7251e-04 - accuracy: 1.0000 - val_loss: 1.6995e-05 - val_accuracy: 1.0000\n",
      "Epoch 43/50\n",
      "100/100 [==============================] - 23s 229ms/step - loss: 0.0010 - accuracy: 1.0000 - val_loss: 1.1493e-04 - val_accuracy: 1.0000\n",
      "Epoch 44/50\n",
      "100/100 [==============================] - 23s 229ms/step - loss: 0.0011 - accuracy: 0.9997 - val_loss: 5.4182e-06 - val_accuracy: 1.0000\n",
      "Epoch 45/50\n",
      "100/100 [==============================] - 23s 229ms/step - loss: 2.7442e-04 - accuracy: 1.0000 - val_loss: 3.0994e-06 - val_accuracy: 1.0000\n",
      "Epoch 46/50\n",
      "100/100 [==============================] - 23s 229ms/step - loss: 1.3453e-04 - accuracy: 1.0000 - val_loss: 2.3970e-06 - val_accuracy: 1.0000\n",
      "Epoch 47/50\n",
      "100/100 [==============================] - 23s 229ms/step - loss: 0.0053 - accuracy: 0.9978 - val_loss: 0.0019 - val_accuracy: 1.0000\n",
      "Epoch 48/50\n",
      "100/100 [==============================] - 23s 229ms/step - loss: 0.0092 - accuracy: 0.9978 - val_loss: 1.4782e-04 - val_accuracy: 1.0000\n",
      "Epoch 49/50\n",
      "100/100 [==============================] - 23s 229ms/step - loss: 0.0059 - accuracy: 0.9972 - val_loss: 6.0877e-04 - val_accuracy: 1.0000\n",
      "Epoch 50/50\n",
      "100/100 [==============================] - 23s 229ms/step - loss: 0.0013 - accuracy: 0.9997 - val_loss: 7.0265e-05 - val_accuracy: 1.0000\n",
      "Epoch 1/50\n",
      "100/100 [==============================] - 31s 247ms/step - loss: 0.0059 - accuracy: 0.9984 - val_loss: 1.6632e-05 - val_accuracy: 1.0000\n",
      "Epoch 2/50\n",
      "100/100 [==============================] - 23s 229ms/step - loss: 4.6713e-04 - accuracy: 1.0000 - val_loss: 1.2739e-05 - val_accuracy: 1.0000\n",
      "Epoch 3/50\n",
      "100/100 [==============================] - 23s 228ms/step - loss: 7.9147e-04 - accuracy: 0.9997 - val_loss: 2.0658e-05 - val_accuracy: 1.0000\n",
      "Epoch 4/50\n",
      "100/100 [==============================] - 23s 228ms/step - loss: 1.2687e-04 - accuracy: 1.0000 - val_loss: 8.7891e-06 - val_accuracy: 1.0000\n",
      "Epoch 5/50\n",
      "100/100 [==============================] - 23s 229ms/step - loss: 2.4028e-04 - accuracy: 1.0000 - val_loss: 5.6064e-06 - val_accuracy: 1.0000\n",
      "Epoch 6/50\n",
      "100/100 [==============================] - 23s 229ms/step - loss: 0.0012 - accuracy: 0.9997 - val_loss: 4.1106e-05 - val_accuracy: 1.0000\n",
      "Epoch 7/50\n",
      "100/100 [==============================] - 23s 229ms/step - loss: 2.8669e-04 - accuracy: 1.0000 - val_loss: 4.4576e-06 - val_accuracy: 1.0000\n",
      "Epoch 8/50\n",
      "100/100 [==============================] - 23s 229ms/step - loss: 3.2172e-04 - accuracy: 1.0000 - val_loss: 2.9631e-06 - val_accuracy: 1.0000\n",
      "Epoch 9/50\n",
      "100/100 [==============================] - 23s 229ms/step - loss: 1.3047e-04 - accuracy: 1.0000 - val_loss: 4.0267e-06 - val_accuracy: 1.0000\n",
      "Epoch 10/50\n",
      "100/100 [==============================] - 23s 228ms/step - loss: 0.0192 - accuracy: 0.9944 - val_loss: 0.0014 - val_accuracy: 1.0000\n",
      "Epoch 11/50\n",
      "100/100 [==============================] - 23s 229ms/step - loss: 0.0069 - accuracy: 0.9975 - val_loss: 2.3835e-04 - val_accuracy: 1.0000\n",
      "Epoch 12/50\n",
      "100/100 [==============================] - 23s 228ms/step - loss: 0.0050 - accuracy: 0.9991 - val_loss: 1.7525e-04 - val_accuracy: 1.0000\n",
      "Epoch 13/50\n",
      "100/100 [==============================] - 23s 229ms/step - loss: 0.0022 - accuracy: 0.9991 - val_loss: 3.8096e-05 - val_accuracy: 1.0000\n",
      "Epoch 14/50\n",
      "100/100 [==============================] - 23s 229ms/step - loss: 0.0016 - accuracy: 0.9997 - val_loss: 5.4836e-05 - val_accuracy: 1.0000\n",
      "Epoch 15/50\n",
      "100/100 [==============================] - 23s 229ms/step - loss: 0.0036 - accuracy: 0.9994 - val_loss: 1.9663e-04 - val_accuracy: 1.0000\n",
      "Epoch 16/50\n",
      "100/100 [==============================] - 23s 229ms/step - loss: 8.9088e-04 - accuracy: 0.9997 - val_loss: 2.5209e-05 - val_accuracy: 1.0000\n",
      "Epoch 17/50\n",
      "100/100 [==============================] - 23s 229ms/step - loss: 0.0074 - accuracy: 0.9978 - val_loss: 0.0014 - val_accuracy: 0.9984\n",
      "Epoch 18/50\n",
      "100/100 [==============================] - 23s 229ms/step - loss: 0.0021 - accuracy: 0.9997 - val_loss: 2.8887e-05 - val_accuracy: 1.0000\n",
      "Epoch 19/50\n",
      "100/100 [==============================] - 23s 229ms/step - loss: 0.0049 - accuracy: 0.9984 - val_loss: 6.2753e-05 - val_accuracy: 1.0000\n",
      "Epoch 20/50\n",
      "100/100 [==============================] - 23s 228ms/step - loss: 0.0045 - accuracy: 0.9987 - val_loss: 3.0394e-04 - val_accuracy: 1.0000\n",
      "Epoch 21/50\n",
      "100/100 [==============================] - 23s 229ms/step - loss: 0.0057 - accuracy: 0.9984 - val_loss: 2.6859e-04 - val_accuracy: 1.0000\n",
      "Epoch 22/50\n",
      "100/100 [==============================] - 23s 229ms/step - loss: 0.0034 - accuracy: 0.9987 - val_loss: 1.0774e-04 - val_accuracy: 1.0000\n",
      "Epoch 23/50\n",
      "100/100 [==============================] - 23s 229ms/step - loss: 0.0014 - accuracy: 0.9994 - val_loss: 4.5696e-05 - val_accuracy: 1.0000\n",
      "Epoch 24/50\n",
      "100/100 [==============================] - 23s 228ms/step - loss: 5.1806e-04 - accuracy: 1.0000 - val_loss: 2.6819e-05 - val_accuracy: 1.0000\n",
      "Epoch 25/50\n",
      "100/100 [==============================] - 23s 229ms/step - loss: 5.6542e-04 - accuracy: 1.0000 - val_loss: 3.3271e-05 - val_accuracy: 1.0000\n",
      "Epoch 26/50\n",
      "100/100 [==============================] - 23s 229ms/step - loss: 6.4445e-04 - accuracy: 0.9997 - val_loss: 1.4752e-05 - val_accuracy: 1.0000\n",
      "Epoch 27/50\n",
      "100/100 [==============================] - 23s 229ms/step - loss: 6.4229e-04 - accuracy: 0.9997 - val_loss: 5.1465e-05 - val_accuracy: 1.0000\n",
      "Epoch 28/50\n",
      "100/100 [==============================] - 23s 229ms/step - loss: 8.9007e-04 - accuracy: 0.9997 - val_loss: 4.2317e-05 - val_accuracy: 1.0000\n",
      "Epoch 29/50\n",
      "100/100 [==============================] - 23s 229ms/step - loss: 0.0013 - accuracy: 0.9997 - val_loss: 1.1697e-04 - val_accuracy: 1.0000\n",
      "Epoch 30/50\n",
      "100/100 [==============================] - 23s 229ms/step - loss: 6.3839e-04 - accuracy: 0.9997 - val_loss: 2.9912e-05 - val_accuracy: 1.0000\n",
      "Epoch 31/50\n",
      "100/100 [==============================] - 23s 229ms/step - loss: 8.8457e-04 - accuracy: 1.0000 - val_loss: 1.0638e-05 - val_accuracy: 1.0000\n",
      "Epoch 32/50\n",
      "100/100 [==============================] - 23s 229ms/step - loss: 8.7215e-04 - accuracy: 0.9997 - val_loss: 1.7122e-05 - val_accuracy: 1.0000\n",
      "Epoch 33/50\n",
      "100/100 [==============================] - 23s 230ms/step - loss: 0.0034 - accuracy: 0.9987 - val_loss: 1.9174e-05 - val_accuracy: 1.0000\n",
      "Epoch 34/50\n",
      "100/100 [==============================] - 23s 229ms/step - loss: 0.0014 - accuracy: 0.9994 - val_loss: 2.7539e-05 - val_accuracy: 1.0000\n",
      "Epoch 35/50\n",
      "100/100 [==============================] - 23s 229ms/step - loss: 0.0011 - accuracy: 0.9997 - val_loss: 1.7427e-05 - val_accuracy: 1.0000\n",
      "Epoch 36/50\n",
      "100/100 [==============================] - 23s 229ms/step - loss: 0.0026 - accuracy: 0.9997 - val_loss: 1.8397e-05 - val_accuracy: 1.0000\n",
      "Epoch 37/50\n",
      "100/100 [==============================] - 23s 229ms/step - loss: 0.0041 - accuracy: 0.9987 - val_loss: 4.6958e-05 - val_accuracy: 1.0000\n",
      "Epoch 38/50\n",
      "100/100 [==============================] - 23s 229ms/step - loss: 0.0039 - accuracy: 0.9991 - val_loss: 2.9842e-05 - val_accuracy: 1.0000\n",
      "Epoch 39/50\n",
      "100/100 [==============================] - 23s 229ms/step - loss: 0.0033 - accuracy: 0.9994 - val_loss: 1.0398e-04 - val_accuracy: 1.0000\n",
      "Epoch 40/50\n",
      "100/100 [==============================] - 23s 228ms/step - loss: 0.0031 - accuracy: 0.9987 - val_loss: 1.1285e-04 - val_accuracy: 1.0000\n",
      "Epoch 41/50\n",
      "100/100 [==============================] - 23s 228ms/step - loss: 0.0043 - accuracy: 0.9984 - val_loss: 2.0172e-04 - val_accuracy: 1.0000\n",
      "Epoch 42/50\n",
      "100/100 [==============================] - 23s 228ms/step - loss: 0.0026 - accuracy: 0.9991 - val_loss: 0.0013 - val_accuracy: 0.9984\n",
      "Epoch 43/50\n",
      "100/100 [==============================] - 23s 229ms/step - loss: 0.0037 - accuracy: 0.9981 - val_loss: 4.1386e-05 - val_accuracy: 1.0000\n",
      "Epoch 44/50\n",
      "100/100 [==============================] - 23s 229ms/step - loss: 0.0027 - accuracy: 0.9991 - val_loss: 3.8676e-05 - val_accuracy: 1.0000\n",
      "Epoch 45/50\n",
      "100/100 [==============================] - 23s 228ms/step - loss: 0.0029 - accuracy: 0.9991 - val_loss: 4.1075e-05 - val_accuracy: 1.0000\n",
      "Epoch 46/50\n",
      "100/100 [==============================] - 23s 228ms/step - loss: 6.2492e-04 - accuracy: 1.0000 - val_loss: 2.6636e-05 - val_accuracy: 1.0000\n",
      "Epoch 47/50\n",
      "100/100 [==============================] - 23s 229ms/step - loss: 0.0018 - accuracy: 0.9994 - val_loss: 2.1096e-05 - val_accuracy: 1.0000\n",
      "Epoch 48/50\n",
      "100/100 [==============================] - 23s 229ms/step - loss: 4.6639e-04 - accuracy: 1.0000 - val_loss: 1.0088e-05 - val_accuracy: 1.0000\n",
      "Epoch 49/50\n",
      "100/100 [==============================] - 23s 229ms/step - loss: 2.6224e-04 - accuracy: 1.0000 - val_loss: 4.9657e-06 - val_accuracy: 1.0000\n",
      "Epoch 50/50\n",
      "100/100 [==============================] - 23s 228ms/step - loss: 0.0046 - accuracy: 0.9984 - val_loss: 7.4053e-04 - val_accuracy: 1.0000\n",
      "0.50% (+/- 0.50%)\n"
     ]
    }
   ],
   "source": [
    "from sklearn.model_selection import KFold\n",
    "import numpy as np\n",
    "import os\n",
    "\n",
    "\n",
    "k = 4\n",
    "kfold = KFold(k, shuffle=True, random_state=42)\n",
    "scores = []\n",
    "for train, test in kfold.split(trainx):\n",
    "    model.compile(loss='binary_crossentropy', optimizer='Adam', metrics=['accuracy'])\n",
    "    model.fit(\n",
    "            train_data,\n",
    "            epochs=50,\n",
    "            validation_data=valid_data,\n",
    "            \n",
    "        )\n",
    "    scores.append(model.evaluate(valid_data, verbose=0))\n",
    "\n",
    "print(\"%.2f%% (+/- %.2f%%)\" % (np.mean(scores), np.std(scores)))\n"
   ]
  },
  {
   "cell_type": "code",
   "execution_count": 11,
   "metadata": {},
   "outputs": [
    {
     "name": "stdout",
     "output_type": "stream",
     "text": [
      "20/20 [==============================] - 5s 194ms/step\n"
     ]
    },
    {
     "data": {
      "image/png": "[encoded data removed]",
      "text/plain": [
       "<Figure size 640x480 with 2 Axes>"
      ]
     },
     "metadata": {},
     "output_type": "display_data"
    }
   ],
   "source": [
    "import numpy as np\n",
    "import matplotlib.pyplot as plt\n",
    "import seaborn as sns\n",
    "from sklearn.metrics import confusion_matrix\n",
    "\n",
    "# Predict the classes of validation data using the trained model\n",
    "\n",
    "valid_pred = np.round(model.predict(valid_data))\n",
    "valid_pred = np.squeeze(valid_pred)\n",
    "valid_pred = valid_pred.astype(int)\n",
    "\n",
    "# Calculate the confusion matrix\n",
    "cm = confusion_matrix(testy, valid_pred)\n",
    "\n",
    "# Plot the confusion matrix\n",
    "sns.heatmap(cm, annot=True, cmap='Blues', fmt='d')\n",
    "plt.xlabel('Predicted')\n",
    "plt.ylabel('True')\n",
    "plt.show()\n"
   ]
  },
  {
   "cell_type": "code",
   "execution_count": 12,
   "metadata": {},
   "outputs": [
    {
     "name": "stdout",
     "output_type": "stream",
     "text": [
      "Epoch 1/50\n",
      "100/100 [==============================] - 23s 230ms/step - loss: 0.0023 - accuracy: 0.9991 - val_loss: 6.1116e-05 - val_accuracy: 1.0000\n",
      "Epoch 2/50\n",
      "100/100 [==============================] - 23s 229ms/step - loss: 0.0018 - accuracy: 0.9991 - val_loss: 4.0543e-05 - val_accuracy: 1.0000\n",
      "Epoch 3/50\n",
      "100/100 [==============================] - 23s 229ms/step - loss: 3.4076e-04 - accuracy: 1.0000 - val_loss: 6.6025e-05 - val_accuracy: 1.0000\n",
      "Epoch 4/50\n",
      "100/100 [==============================] - 23s 229ms/step - loss: 3.0582e-04 - accuracy: 1.0000 - val_loss: 6.3149e-06 - val_accuracy: 1.0000\n",
      "Epoch 5/50\n",
      "100/100 [==============================] - 23s 229ms/step - loss: 3.7540e-04 - accuracy: 1.0000 - val_loss: 1.4188e-05 - val_accuracy: 1.0000\n",
      "Epoch 6/50\n",
      "100/100 [==============================] - 23s 229ms/step - loss: 6.7344e-04 - accuracy: 1.0000 - val_loss: 5.8427e-06 - val_accuracy: 1.0000\n",
      "Epoch 7/50\n",
      "100/100 [==============================] - 23s 229ms/step - loss: 0.0030 - accuracy: 0.9994 - val_loss: 0.0891 - val_accuracy: 0.9906\n",
      "Epoch 8/50\n",
      "100/100 [==============================] - 23s 229ms/step - loss: 0.0023 - accuracy: 0.9994 - val_loss: 8.9211e-05 - val_accuracy: 1.0000\n",
      "Epoch 9/50\n",
      "100/100 [==============================] - 23s 229ms/step - loss: 3.9148e-04 - accuracy: 1.0000 - val_loss: 3.3788e-05 - val_accuracy: 1.0000\n",
      "Epoch 10/50\n",
      "100/100 [==============================] - 23s 229ms/step - loss: 2.1613e-04 - accuracy: 1.0000 - val_loss: 1.5251e-05 - val_accuracy: 1.0000\n",
      "Epoch 11/50\n",
      "100/100 [==============================] - 23s 230ms/step - loss: 6.9547e-05 - accuracy: 1.0000 - val_loss: 1.1546e-05 - val_accuracy: 1.0000\n",
      "Epoch 12/50\n",
      "100/100 [==============================] - 23s 230ms/step - loss: 1.7102e-04 - accuracy: 1.0000 - val_loss: 1.0351e-05 - val_accuracy: 1.0000\n",
      "Epoch 13/50\n",
      "100/100 [==============================] - 23s 229ms/step - loss: 4.1149e-04 - accuracy: 1.0000 - val_loss: 1.4456e-05 - val_accuracy: 1.0000\n",
      "Epoch 14/50\n",
      "100/100 [==============================] - 23s 229ms/step - loss: 1.8920e-04 - accuracy: 1.0000 - val_loss: 5.8438e-06 - val_accuracy: 1.0000\n",
      "Epoch 15/50\n",
      "100/100 [==============================] - 23s 229ms/step - loss: 9.6460e-04 - accuracy: 0.9997 - val_loss: 1.9322e-05 - val_accuracy: 1.0000\n",
      "Epoch 16/50\n",
      "100/100 [==============================] - 23s 229ms/step - loss: 8.0453e-04 - accuracy: 0.9997 - val_loss: 1.0616e-05 - val_accuracy: 1.0000\n",
      "Epoch 17/50\n",
      "100/100 [==============================] - 23s 229ms/step - loss: 0.0024 - accuracy: 0.9994 - val_loss: 3.3708e-05 - val_accuracy: 1.0000\n",
      "Epoch 18/50\n",
      "100/100 [==============================] - 23s 229ms/step - loss: 4.6734e-04 - accuracy: 1.0000 - val_loss: 2.1230e-05 - val_accuracy: 1.0000\n",
      "Epoch 19/50\n",
      "100/100 [==============================] - 23s 229ms/step - loss: 3.2536e-04 - accuracy: 1.0000 - val_loss: 9.0055e-06 - val_accuracy: 1.0000\n",
      "Epoch 20/50\n",
      "100/100 [==============================] - 23s 229ms/step - loss: 4.7315e-04 - accuracy: 0.9997 - val_loss: 1.3976e-05 - val_accuracy: 1.0000\n",
      "Epoch 21/50\n",
      "100/100 [==============================] - 23s 229ms/step - loss: 0.0021 - accuracy: 0.9991 - val_loss: 2.8471e-05 - val_accuracy: 1.0000\n",
      "Epoch 22/50\n",
      "100/100 [==============================] - 23s 229ms/step - loss: 4.8468e-04 - accuracy: 0.9997 - val_loss: 1.2527e-05 - val_accuracy: 1.0000\n",
      "Epoch 23/50\n",
      "100/100 [==============================] - 23s 229ms/step - loss: 2.8570e-04 - accuracy: 1.0000 - val_loss: 1.3364e-05 - val_accuracy: 1.0000\n",
      "Epoch 24/50\n",
      "100/100 [==============================] - 23s 230ms/step - loss: 6.9734e-04 - accuracy: 0.9997 - val_loss: 2.1495e-05 - val_accuracy: 1.0000\n",
      "Epoch 25/50\n",
      "100/100 [==============================] - 23s 229ms/step - loss: 2.0394e-04 - accuracy: 1.0000 - val_loss: 7.4587e-06 - val_accuracy: 1.0000\n",
      "Epoch 26/50\n",
      "100/100 [==============================] - 23s 229ms/step - loss: 9.7157e-05 - accuracy: 1.0000 - val_loss: 5.4551e-06 - val_accuracy: 1.0000\n",
      "Epoch 27/50\n",
      "100/100 [==============================] - 23s 229ms/step - loss: 0.0020 - accuracy: 0.9991 - val_loss: 2.7047e-05 - val_accuracy: 1.0000\n",
      "Epoch 28/50\n",
      "100/100 [==============================] - 23s 229ms/step - loss: 0.0048 - accuracy: 0.9987 - val_loss: 4.6484e-05 - val_accuracy: 1.0000\n",
      "Epoch 29/50\n",
      "100/100 [==============================] - 23s 229ms/step - loss: 0.0060 - accuracy: 0.9978 - val_loss: 0.0134 - val_accuracy: 0.9937\n",
      "Epoch 30/50\n",
      "100/100 [==============================] - 23s 229ms/step - loss: 0.0014 - accuracy: 1.0000 - val_loss: 3.2493e-05 - val_accuracy: 1.0000\n",
      "Epoch 31/50\n",
      "100/100 [==============================] - 23s 229ms/step - loss: 0.0010 - accuracy: 0.9997 - val_loss: 0.0027 - val_accuracy: 1.0000\n",
      "Epoch 32/50\n",
      "100/100 [==============================] - 23s 229ms/step - loss: 3.7758e-04 - accuracy: 1.0000 - val_loss: 1.7152e-04 - val_accuracy: 1.0000\n",
      "Epoch 33/50\n",
      "100/100 [==============================] - 23s 229ms/step - loss: 0.0025 - accuracy: 0.9994 - val_loss: 1.2325e-05 - val_accuracy: 1.0000\n",
      "Epoch 34/50\n",
      "100/100 [==============================] - 23s 229ms/step - loss: 4.9597e-04 - accuracy: 1.0000 - val_loss: 1.0405e-05 - val_accuracy: 1.0000\n",
      "Epoch 35/50\n",
      "100/100 [==============================] - 23s 229ms/step - loss: 3.1141e-04 - accuracy: 1.0000 - val_loss: 9.7874e-06 - val_accuracy: 1.0000\n",
      "Epoch 36/50\n",
      "100/100 [==============================] - 23s 229ms/step - loss: 3.1370e-04 - accuracy: 1.0000 - val_loss: 2.1407e-05 - val_accuracy: 1.0000\n",
      "Epoch 37/50\n",
      "100/100 [==============================] - 23s 229ms/step - loss: 2.6628e-04 - accuracy: 1.0000 - val_loss: 9.1430e-06 - val_accuracy: 1.0000\n",
      "Epoch 38/50\n",
      "100/100 [==============================] - 23s 229ms/step - loss: 1.4184e-04 - accuracy: 1.0000 - val_loss: 7.0436e-06 - val_accuracy: 1.0000\n",
      "Epoch 39/50\n",
      "100/100 [==============================] - 23s 229ms/step - loss: 0.0010 - accuracy: 0.9997 - val_loss: 8.2495e-06 - val_accuracy: 1.0000\n",
      "Epoch 40/50\n",
      "100/100 [==============================] - 23s 229ms/step - loss: 0.0018 - accuracy: 0.9994 - val_loss: 2.7182e-05 - val_accuracy: 1.0000\n",
      "Epoch 41/50\n",
      "100/100 [==============================] - 23s 229ms/step - loss: 6.2568e-04 - accuracy: 1.0000 - val_loss: 1.4204e-05 - val_accuracy: 1.0000\n",
      "Epoch 42/50\n",
      "100/100 [==============================] - 23s 229ms/step - loss: 0.0023 - accuracy: 0.9994 - val_loss: 7.3771e-05 - val_accuracy: 1.0000\n",
      "Epoch 43/50\n",
      "100/100 [==============================] - 23s 229ms/step - loss: 2.7399e-04 - accuracy: 1.0000 - val_loss: 3.0250e-05 - val_accuracy: 1.0000\n",
      "Epoch 44/50\n",
      "100/100 [==============================] - 23s 229ms/step - loss: 1.4021e-04 - accuracy: 1.0000 - val_loss: 1.3544e-05 - val_accuracy: 1.0000\n",
      "Epoch 45/50\n",
      "100/100 [==============================] - 23s 229ms/step - loss: 5.7205e-04 - accuracy: 1.0000 - val_loss: 2.0247e-05 - val_accuracy: 1.0000\n",
      "Epoch 46/50\n",
      "100/100 [==============================] - 23s 229ms/step - loss: 0.0011 - accuracy: 0.9997 - val_loss: 1.4745e-05 - val_accuracy: 1.0000\n",
      "Epoch 47/50\n",
      "100/100 [==============================] - 23s 229ms/step - loss: 9.6499e-04 - accuracy: 0.9997 - val_loss: 8.0306e-05 - val_accuracy: 1.0000\n",
      "Epoch 48/50\n",
      "100/100 [==============================] - 23s 229ms/step - loss: 0.0094 - accuracy: 0.9978 - val_loss: 7.8751e-04 - val_accuracy: 1.0000\n",
      "Epoch 49/50\n",
      "100/100 [==============================] - 23s 229ms/step - loss: 0.0013 - accuracy: 0.9994 - val_loss: 3.7783e-05 - val_accuracy: 1.0000\n",
      "Epoch 50/50\n",
      "100/100 [==============================] - 23s 229ms/step - loss: 0.0045 - accuracy: 0.9984 - val_loss: 5.6156e-05 - val_accuracy: 1.0000\n"
     ]
    },
    {
     "data": {
      "image/png": "[encoded data removed]",
      "text/plain": [
       "<Figure size 640x480 with 1 Axes>"
      ]
     },
     "metadata": {},
     "output_type": "display_data"
    }
   ],
   "source": [
    "history = model.fit(\n",
    "    train_data,\n",
    "    epochs=50,\n",
    "    validation_data=valid_data,\n",
    "    \n",
    ")\n",
    "\n",
    "plt.plot(history.history['accuracy'])\n",
    "plt.plot(history.history['val_accuracy'])\n",
    "plt.title('Model accuracy')\n",
    "plt.ylabel('Accuracy')\n",
    "plt.xlabel('Epoch')\n",
    "plt.legend(['Train', 'Validation'], loc='upper left')\n",
    "plt.show()"
   ]
  },
  {
   "cell_type": "code",
   "execution_count": 13,
   "metadata": {},
   "outputs": [
    {
     "data": {
      "image/png": "[encoded data removed]",
      "text/plain": [
       "<Figure size 640x480 with 1 Axes>"
      ]
     },
     "metadata": {},
     "output_type": "display_data"
    }
   ],
   "source": [
    "\n",
    "history = model.history\n",
    "plt.plot(history.history['val_accuracy'])\n",
    "plt.title('Validation Accuracy')\n",
    "plt.ylabel('Accuracy')\n",
    "plt.xlabel('Epoch')\n",
    "plt.show()"
   ]
  },
  {
   "cell_type": "code",
   "execution_count": 14,
   "metadata": {},
   "outputs": [
    {
     "data": {
      "image/png": "[encoded data removed]",
      "text/plain": [
       "<Figure size 640x480 with 1 Axes>"
      ]
     },
     "metadata": {},
     "output_type": "display_data"
    }
   ],
   "source": [
    "plt.plot(history.history['accuracy'])\n",
    "plt.title('Training Accuracy')\n",
    "plt.xlabel('Epochs')\n",
    "plt.ylabel('Accuracy')\n",
    "plt.show()"
   ]
  },
  {
   "cell_type": "code",
   "execution_count": 15,
   "metadata": {},
   "outputs": [
    {
     "name": "stdout",
     "output_type": "stream",
     "text": [
      "20/20 [==============================] - 4s 187ms/step\n",
      "              precision    recall  f1-score   support\n",
      "\n",
      "           0       0.45      1.00      0.62       285\n",
      "           1       0.00      0.00      0.00       352\n",
      "\n",
      "    accuracy                           0.45       637\n",
      "   macro avg       0.22      0.50      0.31       637\n",
      "weighted avg       0.20      0.45      0.28       637\n",
      "\n"
     ]
    },
    {
     "name": "stderr",
     "output_type": "stream",
     "text": [
      "c:\\Users\\ZxomStation\\anaconda3\\lib\\site-packages\\sklearn\\metrics\\_classification.py:1245: UndefinedMetricWarning:\n",
      "\n",
      "Precision and F-score are ill-defined and being set to 0.0 in labels with no predicted samples. Use `zero_division` parameter to control this behavior.\n",
      "\n",
      "c:\\Users\\ZxomStation\\anaconda3\\lib\\site-packages\\sklearn\\metrics\\_classification.py:1245: UndefinedMetricWarning:\n",
      "\n",
      "Precision and F-score are ill-defined and being set to 0.0 in labels with no predicted samples. Use `zero_division` parameter to control this behavior.\n",
      "\n",
      "c:\\Users\\ZxomStation\\anaconda3\\lib\\site-packages\\sklearn\\metrics\\_classification.py:1245: UndefinedMetricWarning:\n",
      "\n",
      "Precision and F-score are ill-defined and being set to 0.0 in labels with no predicted samples. Use `zero_division` parameter to control this behavior.\n",
      "\n"
     ]
    }
   ],
   "source": [
    "from sklearn.metrics import classification_report\n",
    "# Predict the class probabilities for the validation data\n",
    "predictions = model.predict(valid_data)\n",
    "\n",
    "# Convert the predictions to class labels\n",
    "predictions_classes = np.argmax(predictions, axis=1)\n",
    "\n",
    "# Convert the true labels to one-hot encoded form\n",
    "y_true_onehot = tf.keras.utils.to_categorical(testy, 2)\n",
    "\n",
    "# Convert the one-hot encoded true labels to class labels\n",
    "y_true_classes = np.argmax(y_true_onehot, axis=1)\n",
    "\n",
    "print(classification_report(y_true_classes, predictions_classes))\n"
   ]
  },
  {
   "cell_type": "code",
   "execution_count": 16,
   "metadata": {},
   "outputs": [],
   "source": [
    "# k = 4\n",
    "# kfold = KFold(k, shuffle=True, random_state=42)\n",
    "\n",
    "# for fold, (train_idx, val_idx) in enumerate(kfold.split(trainx)):\n",
    "#     with tf.device('/GPU:0'):\n",
    "#         base_model = ResNet101V2(\n",
    "#             include_top=False,\n",
    "#             input_shape=(256,256,3)\n",
    "#         )\n",
    "#         base_model.trainable = False\n",
    "\n",
    "#         model = Sequential([\n",
    "#             base_model,\n",
    "#             GlobalAveragePooling2D(),\n",
    "#             Dense(256,activation='relu'),\n",
    "#             BatchNormalization(),\n",
    "#             Dense(164,activation='relu'),\n",
    "#             BatchNormalization(),\n",
    "#             Dense(1,activation='sigmoid')\n",
    "#         ])\n",
    "\n",
    "#         model.compile(\n",
    "#             loss='binary_crossentropy',\n",
    "#             optimizer='Adam',\n",
    "#             metrics=['accuracy']\n",
    "#         )\n",
    "\n",
    "#         cb = [EarlyStopping(patience=5,monitor='val_accuracy',mode='max',restore_best_weights=True),ModelCheckpoint(\"ResNet101V2-{}-{}.h5\".format(fold, \"01\"),save_best_only=True)]\n",
    "\n",
    "#         model.fit(\n",
    "#             train_data,\n",
    "#             epochs=50,\n",
    "#             validation_data=valid_data,\n",
    "#             callbacks=cb\n",
    "#         )\n"
   ]
  }
 ],
 "metadata": {
  "kernelspec": {
   "display_name": "base",
   "language": "python",
   "name": "python3"
  },
  "language_info": {
   "codemirror_mode": {
    "name": "ipython",
    "version": 3
   },
   "file_extension": ".py",
   "mimetype": "text/x-python",
   "name": "python",
   "nbconvert_exporter": "python",
   "pygments_lexer": "ipython3",
   "version": "3.8.8"
  },
  "orig_nbformat": 4,
  "vscode": {
   "interpreter": {
    "hash": "cfe3c31902365017b246a3866219bb9495279eeea2be3ba5413a3b42a93518d2"
   }
  }
 },
 "nbformat": 4,
 "nbformat_minor": 2
}
