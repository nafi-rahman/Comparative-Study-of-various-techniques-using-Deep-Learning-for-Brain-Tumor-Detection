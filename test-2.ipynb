{
 "cells": [
  {
   "cell_type": "code",
   "execution_count": 4,
   "metadata": {},
   "outputs": [],
   "source": [
    "# Common \n",
    "import os\n",
    "import keras\n",
    "import numpy as np \n",
    "import tensorflow as tf\n",
    "\n",
    "# Data\n",
    "import pandas as pd\n",
    "from keras.preprocessing.image import ImageDataGenerator\n",
    "\n",
    "\n",
    "\n",
    "# Models\n",
    "from keras import Sequential\n",
    "from keras.layers import Dense, GlobalAveragePooling2D, Dropout, BatchNormalization\n",
    "from keras.callbacks import EarlyStopping, ModelCheckpoint\n",
    "from tensorflow.keras.applications import ResNet50V2"
   ]
  },
  {
   "cell_type": "code",
   "execution_count": 6,
   "metadata": {},
   "outputs": [
    {
     "data": {
      "text/html": [
       "<div>\n",
       "<style scoped>\n",
       "    .dataframe tbody tr th:only-of-type {\n",
       "        vertical-align: middle;\n",
       "    }\n",
       "\n",
       "    .dataframe tbody tr th {\n",
       "        vertical-align: top;\n",
       "    }\n",
       "\n",
       "    .dataframe thead th {\n",
       "        text-align: right;\n",
       "    }\n",
       "</style>\n",
       "<table border=\"1\" class=\"dataframe\">\n",
       "  <thead>\n",
       "    <tr style=\"text-align: right;\">\n",
       "      <th></th>\n",
       "      <th>ImageID</th>\n",
       "      <th>Label</th>\n",
       "    </tr>\n",
       "  </thead>\n",
       "  <tbody>\n",
       "    <tr>\n",
       "      <th>0</th>\n",
       "      <td>M01_01</td>\n",
       "      <td>Monkeypox</td>\n",
       "    </tr>\n",
       "    <tr>\n",
       "      <th>1</th>\n",
       "      <td>M01_02</td>\n",
       "      <td>Monkeypox</td>\n",
       "    </tr>\n",
       "    <tr>\n",
       "      <th>2</th>\n",
       "      <td>M01_03</td>\n",
       "      <td>Monkeypox</td>\n",
       "    </tr>\n",
       "    <tr>\n",
       "      <th>3</th>\n",
       "      <td>M01_04</td>\n",
       "      <td>Monkeypox</td>\n",
       "    </tr>\n",
       "    <tr>\n",
       "      <th>4</th>\n",
       "      <td>M02_01</td>\n",
       "      <td>Monkeypox</td>\n",
       "    </tr>\n",
       "  </tbody>\n",
       "</table>\n",
       "</div>"
      ],
      "text/plain": [
       "  ImageID      Label\n",
       "0  M01_01  Monkeypox\n",
       "1  M01_02  Monkeypox\n",
       "2  M01_03  Monkeypox\n",
       "3  M01_04  Monkeypox\n",
       "4  M02_01  Monkeypox"
      ]
     },
     "execution_count": 6,
     "metadata": {},
     "output_type": "execute_result"
    }
   ],
   "source": [
    "info_file = './monkeypox-skin-lesion-dataset/Monkeypox_Dataset_metadata.csv'\n",
    "info = pd.read_csv(info_file)\n",
    "info.head()"
   ]
  },
  {
   "cell_type": "code",
   "execution_count": 8,
   "metadata": {},
   "outputs": [
    {
     "name": "stdout",
     "output_type": "stream",
     "text": [
      "Found 3192 images belonging to 2 classes.\n",
      "Found 138 images belonging to 2 classes.\n",
      "Found 90 images belonging to 2 classes.\n"
     ]
    }
   ],
   "source": [
    "# Data Generators\n",
    "train_gen = ImageDataGenerator(rescale=1./255)\n",
    "valid_gen = ImageDataGenerator(rescale=1./255,validation_split=0.4)\n",
    "\n",
    "# Loading Data\n",
    "train_data = train_gen.flow_from_directory(\"./monkeypox-skin-lesion-dataset/Augmented Images/Augmented Images\",target_size=(256,256),shuffle=True,class_mode='binary')\n",
    "valid_data = valid_gen.flow_from_directory('./monkeypox-skin-lesion-dataset/Original Images/Original Images',target_size=(256,256),shuffle=True,subset='training',class_mode='binary')\n",
    "test_data = valid_gen.flow_from_directory('./monkeypox-skin-lesion-dataset/Original Images/Original Images',target_size=(256,256),shuffle=True,subset='validation',class_mode='binary')"
   ]
  }
 ],
 "metadata": {
  "kernelspec": {
   "display_name": "Python 3.8.8 ('base')",
   "language": "python",
   "name": "python3"
  },
  "language_info": {
   "codemirror_mode": {
    "name": "ipython",
    "version": 3
   },
   "file_extension": ".py",
   "mimetype": "text/x-python",
   "name": "python",
   "nbconvert_exporter": "python",
   "pygments_lexer": "ipython3",
   "version": "3.8.8"
  },
  "orig_nbformat": 4,
  "vscode": {
   "interpreter": {
    "hash": "cfe3c31902365017b246a3866219bb9495279eeea2be3ba5413a3b42a93518d2"
   }
  }
 },
 "nbformat": 4,
 "nbformat_minor": 2
}
